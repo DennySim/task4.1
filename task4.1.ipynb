{
 "cells": [
  {
   "cell_type": "code",
   "execution_count": 63,
   "metadata": {},
   "outputs": [],
   "source": [
    "import os\n",
    "import pandas as pd\n",
    "import numpy as np"
   ]
  },
  {
   "cell_type": "code",
   "execution_count": 78,
   "metadata": {},
   "outputs": [],
   "source": [
    "years = [1900, 1950, 2000]\n",
    "\n",
    "\n",
    "def conc_frame():\n",
    "    file_name_list = []\n",
    "    for year in years:\n",
    "        file_name_list.append('yob'+str(year)+'.txt')\n",
    "        \n",
    "    dir_path = f'{os.getcwd()}/input/'    \n",
    "    frame_list_per_year = []\n",
    "    for i in file_name_list:\n",
    "        frame_list_per_year.append(pd.read_csv(dir_path + i, \n",
    "                                               names=['Name','Gender','Count'], \n",
    "                                               index_col=None)\n",
    "                                  )\n",
    "    \n",
    "    return frame_list_per_year\n",
    "\n",
    "\n",
    "def count_top3(years):\n",
    "    s = pd.concat(conc_frame())\n",
    "    return s.groupby('Name').sum().sort_values(by='Count', ascending=False).head(3)\n",
    "\n",
    "\n",
    "def count_dynamics(years):\n",
    "     for year in conc_frame():\n",
    "        print(year.groupby('Gender').sum().sort_values(by='Count', ascending=False))"
   ]
  },
  {
   "cell_type": "code",
   "execution_count": 79,
   "metadata": {},
   "outputs": [
    {
     "name": "stdout",
     "output_type": "stream",
     "text": [
      "         Count\n",
      "Name          \n",
      "James   111798\n",
      "John    109593\n",
      "Robert  101373\n",
      "         Count\n",
      "Gender        \n",
      "F       299800\n",
      "M       150483\n",
      "          Count\n",
      "Gender         \n",
      "M       1790549\n",
      "F       1713151\n",
      "          Count\n",
      "Gender         \n",
      "M       1962969\n",
      "F       1815110\n"
     ]
    }
   ],
   "source": [
    "print(count_top3(years))\n",
    "count_dynamics(years)"
   ]
  },
  {
   "cell_type": "code",
   "execution_count": null,
   "metadata": {},
   "outputs": [],
   "source": []
  }
 ],
 "metadata": {
  "kernelspec": {
   "display_name": "Python 3",
   "language": "python",
   "name": "python3"
  },
  "language_info": {
   "codemirror_mode": {
    "name": "ipython",
    "version": 3
   },
   "file_extension": ".py",
   "mimetype": "text/x-python",
   "name": "python",
   "nbconvert_exporter": "python",
   "pygments_lexer": "ipython3",
   "version": "3.6.4"
  }
 },
 "nbformat": 4,
 "nbformat_minor": 1
}
